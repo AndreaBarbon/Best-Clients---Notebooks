{
 "cells": [
  {
   "cell_type": "code",
   "execution_count": 40,
   "metadata": {
    "ExecuteTime": {
     "end_time": "2018-05-04T07:55:19.153575Z",
     "start_time": "2018-05-04T07:55:19.127182Z"
    }
   },
   "outputs": [
    {
     "name": "stdout",
     "output_type": "stream",
     "text": [
      "Populating the interactive namespace from numpy and matplotlib\n"
     ]
    }
   ],
   "source": [
    "%pylab inline\n",
    "%config InlineBackend.figure_format = 'retina'"
   ]
  },
  {
   "cell_type": "code",
   "execution_count": 102,
   "metadata": {
    "ExecuteTime": {
     "end_time": "2018-05-04T11:40:01.881220Z",
     "start_time": "2018-05-04T11:40:01.872504Z"
    },
    "collapsed": true
   },
   "outputs": [],
   "source": [
    "import itertools, os; import pandas as pd; import numpy  as np\n",
    "from pandas.tseries.offsets import *\n",
    "import statsmodels.formula.api as smf\n",
    "import glob\n",
    "import xlsxwriter"
   ]
  },
  {
   "cell_type": "code",
   "execution_count": 2,
   "metadata": {
    "ExecuteTime": {
     "end_time": "2018-05-04T07:48:08.926323Z",
     "start_time": "2018-05-04T07:48:08.919609Z"
    },
    "collapsed": true
   },
   "outputs": [],
   "source": [
    "os.chdir(\"/Users/abramo/Dropbox/Results X_N/\")"
   ]
  },
  {
   "cell_type": "code",
   "execution_count": 208,
   "metadata": {
    "ExecuteTime": {
     "end_time": "2018-05-04T12:33:43.049978Z",
     "start_time": "2018-05-04T12:33:42.883087Z"
    }
   },
   "outputs": [],
   "source": [
    "dfs   = []\n",
    "files = glob.glob(\"summary*\")\n",
    "for X, N in zip([1,1,1,2,2,2,5,5,5], [1,5,10]*3):\n",
    "    file = 'summary_of_results_X%d_N%d.xlsx'%(X,N)\n",
    "    te = pd.read_excel(file)\n",
    "    te['N'] = N; te['X'] = \"{0:d}%\".format(X)\n",
    "    dfs.append(te)\n",
    "\n",
    "df = pd.concat(dfs)\n",
    "ds = df.reset_index().set_index(['index', 'X', 'N']).unstack(level=1)[\"(1)\"]\n",
    "S  = ds.index.get_level_values(0).nunique()\n",
    "for i in range(0, S): ds = pd.concat([ds.iloc[:i*4], pd.DataFrame(index=[('', '')]), ds.iloc[i*4:]])\n",
    "\n",
    "st = ds.copy()\n",
    "ds = ds.apply(lambda x : x.str.replace(\"*\", \"\"))\n",
    "ds = ds.astype(float)\n",
    "\n",
    "st1 = st.apply(lambda x : x.str[-1:]=='*' )\n",
    "st2 = st.apply(lambda x : x.str[-2:]=='**' )\n",
    "st3 = st.apply(lambda x : x.str[-3:]=='***' )"
   ]
  },
  {
   "cell_type": "code",
   "execution_count": 209,
   "metadata": {
    "ExecuteTime": {
     "end_time": "2018-05-04T12:33:44.783851Z",
     "start_time": "2018-05-04T12:33:44.593115Z"
    },
    "collapsed": true
   },
   "outputs": [],
   "source": [
    "writer = pd.ExcelWriter('Comparison.xlsx', engine='xlsxwriter')\n",
    "ds.to_excel(writer, sheet_name='Sheet1')\n",
    "workbook  = writer.book\n",
    "\n",
    "worksheet = writer.sheets['Sheet1']\n",
    "\n",
    "for i in range(0, S): worksheet.conditional_format('C%d:E%d'%(i*4+3,i*4+6), {\n",
    "    'type'     : '2_color_scale',\n",
    "    'min_color': '#ffffff',\n",
    "    'max_color': '#99ddff',\n",
    "})\n",
    "    \n",
    "worksheet.set_column('A:A', 30)\n",
    "worksheet.set_zoom(175)\n",
    "\n",
    "bold_cell = workbook.add_format()\n",
    "bold_cell.set_bold(True)\n",
    "\n",
    "non_bold_cell = workbook.add_format()\n",
    "non_bold_cell.set_bold(False)\n",
    "\n",
    "rows = ['C','D', 'E']\n",
    "i = 0\n",
    "j = 2\n",
    "for key, row in ds.iterrows():\n",
    "    for x in row:\n",
    "        i+= 1\n",
    "        y = ds .iloc[j-2][i%3]\n",
    "        b = st1.iloc[j-2][i%3]\n",
    "        if b : cf = bold_cell\n",
    "        else : cf = non_bold_cell\n",
    "        if not np.isnan(y): worksheet.write(rows[i%3]+str(j), y, cf)\n",
    "        \n",
    "    j+=1\n",
    "\n",
    "writer.save()"
   ]
  },
  {
   "cell_type": "code",
   "execution_count": null,
   "metadata": {
    "collapsed": true
   },
   "outputs": [],
   "source": []
  }
 ],
 "metadata": {
  "kernelspec": {
   "display_name": "Python 3",
   "language": "python",
   "name": "python3"
  },
  "language_info": {
   "codemirror_mode": {
    "name": "ipython",
    "version": 3
   },
   "file_extension": ".py",
   "mimetype": "text/x-python",
   "name": "python",
   "nbconvert_exporter": "python",
   "pygments_lexer": "ipython3",
   "version": "3.6.3"
  },
  "toc": {
   "colors": {
    "hover_highlight": "#DAA520",
    "navigate_num": "#000000",
    "navigate_text": "#333333",
    "running_highlight": "#FF0000",
    "selected_highlight": "#FFD700",
    "sidebar_border": "#EEEEEE",
    "wrapper_background": "#FFFFFF"
   },
   "moveMenuLeft": true,
   "nav_menu": {
    "height": "12px",
    "width": "252px"
   },
   "navigate_menu": true,
   "number_sections": true,
   "sideBar": true,
   "threshold": 4,
   "toc_cell": false,
   "toc_section_display": "block",
   "toc_window_display": false,
   "widenNotebook": false
  }
 },
 "nbformat": 4,
 "nbformat_minor": 2
}
