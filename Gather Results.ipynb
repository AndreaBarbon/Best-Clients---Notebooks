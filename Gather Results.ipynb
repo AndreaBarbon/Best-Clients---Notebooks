{
 "cells": [
  {
   "cell_type": "code",
   "execution_count": 4,
   "metadata": {
    "ExecuteTime": {
     "end_time": "2017-05-07T23:45:25.157457+02:00",
     "start_time": "2017-05-07T23:45:25.153182Z"
    },
    "collapsed": true
   },
   "outputs": [],
   "source": [
    "import itertools, os, glob\n",
    "import pandas as pd\n",
    "import numpy  as np"
   ]
  },
  {
   "cell_type": "code",
   "execution_count": 15,
   "metadata": {
    "ExecuteTime": {
     "end_time": "2017-05-07T23:51:00.867742+02:00",
     "start_time": "2017-05-07T23:51:00.857861Z"
    },
    "collapsed": true
   },
   "outputs": [],
   "source": [
    "def write_to_sheet(tab, to_file, sheet_name, index_header=False):\n",
    "    import openpyxl\n",
    "    filename = '{0}.xlsx'.format(to_file)\n",
    "    book = openpyxl.load_workbook(filename)\n",
    "    writer=pd.ExcelWriter(filename, engine=\"openpyxl\")\n",
    "    writer.book = book\n",
    "    writer.sheets = dict((ws.title, ws) for ws in book.worksheets)\n",
    "    tab.to_excel(writer, index=index_header, header=index_header, sheet_name=sheet_name)\n",
    "    writer.save()"
   ]
  },
  {
   "cell_type": "code",
   "execution_count": 3,
   "metadata": {
    "ExecuteTime": {
     "end_time": "2017-05-07T23:44:06.493103+02:00",
     "start_time": "2017-05-07T23:44:06.488487Z"
    },
    "collapsed": true
   },
   "outputs": [],
   "source": [
    "os.chdir(\"/Users/abramo/Dropbox/work in progress/\")"
   ]
  },
  {
   "cell_type": "code",
   "execution_count": 29,
   "metadata": {
    "ExecuteTime": {
     "end_time": "2017-05-08T00:57:20.059487+02:00",
     "start_time": "2017-05-08T00:57:19.941119Z"
    },
    "collapsed": true
   },
   "outputs": [],
   "source": [
    "files = glob.glob(\"*.txt\")\n",
    "\n",
    "for file in files:\n",
    "    tab = pd.read_table(file)\n",
    "    write_to_sheet(tab, 'results', file[:-4]+'_raw')"
   ]
  },
  {
   "cell_type": "code",
   "execution_count": 28,
   "metadata": {
    "ExecuteTime": {
     "end_time": "2017-05-08T00:42:09.878205+02:00",
     "start_time": "2017-05-08T00:42:09.502510Z"
    }
   },
   "outputs": [],
   "source": [
    "! rm *.txt\n",
    "! rm *.xls"
   ]
  },
  {
   "cell_type": "code",
   "execution_count": null,
   "metadata": {
    "collapsed": true
   },
   "outputs": [],
   "source": []
  }
 ],
 "metadata": {
  "kernelspec": {
   "display_name": "Python 3",
   "language": "python",
   "name": "python3"
  },
  "language_info": {
   "codemirror_mode": {
    "name": "ipython",
    "version": 3
   },
   "file_extension": ".py",
   "mimetype": "text/x-python",
   "name": "python",
   "nbconvert_exporter": "python",
   "pygments_lexer": "ipython3",
   "version": "3.6.0"
  },
  "toc": {
   "colors": {
    "hover_highlight": "#DAA520",
    "running_highlight": "#FF0000",
    "selected_highlight": "#FFD700"
   },
   "moveMenuLeft": true,
   "nav_menu": {
    "height": "12px",
    "width": "252px"
   },
   "navigate_menu": true,
   "number_sections": true,
   "sideBar": true,
   "threshold": 4,
   "toc_cell": false,
   "toc_section_display": "block",
   "toc_window_display": false,
   "widenNotebook": false
  }
 },
 "nbformat": 4,
 "nbformat_minor": 2
}
