{
 "cells": [
  {
   "cell_type": "code",
   "execution_count": 2,
   "metadata": {
    "collapsed": false
   },
   "outputs": [],
   "source": [
    "import ipyparallel as ipp\n",
    "client = ipp.Client()\n",
    "lview  = client.load_balanced_view()\n",
    "lview.block = True\n",
    "CORES = len(client[:])\n",
    "for i in range(0,CORES):\n",
    "    client[i].push(dict(i=i))"
   ]
  },
  {
   "cell_type": "code",
   "execution_count": 3,
   "metadata": {
    "collapsed": false
   },
   "outputs": [],
   "source": [
    "%%px --local\n",
    "path2 = 'G:\\\\Andrea\\\\Python\\\\Best Clients'\n",
    "path3 = 'C:\\\\Users\\\\barboa\\\\Desktop\\\\Python\\\\Best Clients'\n",
    "\n",
    "import os\n",
    "\n",
    "os.chdir(path3)\n",
    "%run functions\n",
    "os.chdir(path2)\n",
    "\n",
    "import seaborn as sns\n",
    "sns.set_style(\"whitegrid\")"
   ]
  },
  {
   "cell_type": "code",
   "execution_count": 4,
   "metadata": {
    "collapsed": false
   },
   "outputs": [
    {
     "name": "stdout",
     "output_type": "stream",
     "text": [
      "Populating the interactive namespace from numpy and matplotlib\n"
     ]
    }
   ],
   "source": [
    "%pylab inline"
   ]
  },
  {
   "cell_type": "markdown",
   "metadata": {},
   "source": [
    "<br/><br/>"
   ]
  },
  {
   "cell_type": "markdown",
   "metadata": {},
   "source": [
    "# Read Data"
   ]
  },
  {
   "cell_type": "markdown",
   "metadata": {},
   "source": [
    "### DGTW Returns"
   ]
  },
  {
   "cell_type": "code",
   "execution_count": 5,
   "metadata": {
    "collapsed": true
   },
   "outputs": [],
   "source": [
    "DGTW    = pd.read_stata('dgtw.dta', columns=['date','permno','dgtw_xret'] )"
   ]
  },
  {
   "cell_type": "markdown",
   "metadata": {},
   "source": [
    "### CRSP"
   ]
  },
  {
   "cell_type": "code",
   "execution_count": 6,
   "metadata": {
    "collapsed": false
   },
   "outputs": [
    {
     "name": "stdout",
     "output_type": "stream",
     "text": [
      "Wall time: 1.83 s\n"
     ]
    }
   ],
   "source": [
    "%%time\n",
    "SMALL = 3\n",
    "# Remove small caps once for all\n",
    "CRSP_cap = pd.read_csv('CRSP_cap.csv', parse_dates=['date'], infer_datetime_format=True)\n",
    "CRSP_cap = CRSP_cap.groupby(['PERMNO', 'date']).mean()\n",
    "\n",
    "caps = CRSP_cap.groupby(level=0)['capn'].mean()\n",
    "caps = caps[caps >= SMALL]\n",
    "large_caps = caps.index.unique()\n",
    "len(large_caps)"
   ]
  },
  {
   "cell_type": "code",
   "execution_count": 7,
   "metadata": {
    "collapsed": false
   },
   "outputs": [
    {
     "name": "stdout",
     "output_type": "stream",
     "text": [
      "Wall time: 1min 4s\n"
     ]
    }
   ],
   "source": [
    "%%time\n",
    "def read_CRSP(name):\n",
    "    df          = pd.read_csv(name, low_memory=False, na_values=['C','B'] )\n",
    "    dp          = lambda x : pd.to_datetime(x, format=\"%d%b%Y\")\n",
    "    dates       = pd.Series( map( dp, df['date'].unique() ), index=df['date'].unique() )\n",
    "\n",
    "    df          = ni(df, 'date')\n",
    "    df['date']  = dates\n",
    "    df          = ni(df.set_index('date'))\n",
    "    return df\n",
    "\n",
    "df1  = read_CRSP('CRSP_volume_1999_2006.csv')\n",
    "df2  = read_CRSP('CRSP_volume_2006_2014.csv')\n",
    "\n",
    "df1 = df1[df1['date'].isin( pd.date_range( pd.datetime(1998,1,1), pd.datetime(2006,12,31) ) )]\n",
    "df2 = df2[df2['date'].isin( pd.date_range( pd.datetime(2007,1,1), pd.datetime(2015,12,31) ) )]\n",
    "df  = pd.concat([df1, df2])\n",
    "\n",
    "del df1; del df2"
   ]
  },
  {
   "cell_type": "code",
   "execution_count": 8,
   "metadata": {
    "collapsed": false
   },
   "outputs": [
    {
     "name": "stdout",
     "output_type": "stream",
     "text": [
      "Wall time: 19.9 s\n"
     ]
    }
   ],
   "source": [
    "%%time\n",
    "\n",
    "df['DVol']  = df['VOL'] * df['PRC']\n",
    "df['Turn']  = df['VOL'] / df['SHROUT']\n",
    "\n",
    "df  = df[[ 'date', 'PERMNO', 'VOL', 'RET', 'DVol' ]]\n",
    "df  = df.groupby( ['PERMNO', 'date'] ).mean()\n",
    "CRSP  = ni(df)\n",
    "\n",
    "stocks_CRSP = CRSP['PERMNO'].unique()"
   ]
  },
  {
   "cell_type": "code",
   "execution_count": 9,
   "metadata": {
    "collapsed": true
   },
   "outputs": [],
   "source": [
    "CRSP     = ni(CRSP)\n",
    "CRSP_big = CRSP[CRSP['PERMNO'].isin(large_caps)].copy()"
   ]
  },
  {
   "cell_type": "code",
   "execution_count": 10,
   "metadata": {
    "collapsed": false
   },
   "outputs": [
    {
     "name": "stdout",
     "output_type": "stream",
     "text": [
      "Wall time: 9.84 s\n"
     ]
    }
   ],
   "source": [
    "%%time\n",
    "# Compute CRSP Volume rolling mean and std\n",
    "df        = ni(CRSP_big, 'date')\n",
    "roll      = df.groupby('PERMNO').rolling( window=60 )\n",
    "SVOL_mean = roll['VOL' ].mean()"
   ]
  },
  {
   "cell_type": "markdown",
   "metadata": {},
   "source": [
    "### Ancerno"
   ]
  },
  {
   "cell_type": "code",
   "execution_count": 11,
   "metadata": {
    "collapsed": false
   },
   "outputs": [
    {
     "name": "stdout",
     "output_type": "stream",
     "text": [
      "Wall time: 1min 4s\n"
     ]
    }
   ],
   "source": [
    "%%time\n",
    "cols  = ['ManagerCode', 'BrokerCode', 'TradeDate', 'permno', 'Volume', \n",
    "         'Symbol', 'Side', 'ShareVolume', 'DollarVolume', 'xp', 'dpC' ]\n",
    "dff1  = pd.read_hdf('Dataset.hdf', 'y_1999_2006')[cols]\n",
    "dff2  = pd.read_hdf('Dataset.hdf', 'y_2007_2014')[cols]\n",
    "dff   = pd.concat([dff1, dff2])\n",
    "del dff1; del dff2"
   ]
  },
  {
   "cell_type": "code",
   "execution_count": 12,
   "metadata": {
    "collapsed": false
   },
   "outputs": [
    {
     "name": "stdout",
     "output_type": "stream",
     "text": [
      "We have 8753 stocks\n"
     ]
    }
   ],
   "source": [
    "stocks_ANCE = dff['permno'].unique()\n",
    "stocks      = list( set(stocks_ANCE).intersection(stocks_CRSP) )\n",
    "print( 'We have {0} stocks'.format(  len(stocks) ))"
   ]
  },
  {
   "cell_type": "code",
   "execution_count": 13,
   "metadata": {
    "collapsed": false
   },
   "outputs": [
    {
     "name": "stdout",
     "output_type": "stream",
     "text": [
      "We have 6848 stocks, excluding small caps\n"
     ]
    }
   ],
   "source": [
    "stocks      = list( set(stocks).intersection(large_caps) )\n",
    "print( 'We have {0} stocks, excluding small caps'.format(  len(stocks) ))"
   ]
  },
  {
   "cell_type": "code",
   "execution_count": 14,
   "metadata": {
    "collapsed": false
   },
   "outputs": [
    {
     "name": "stdout",
     "output_type": "stream",
     "text": [
      "We have 628 managers\n"
     ]
    }
   ],
   "source": [
    "MIN_TRADES = 1000\n",
    "size     = dff.groupby(c).size()\n",
    "all_managers = size[size>MIN_TRADES].index.values\n",
    "client[:].scatter(  'managers',     all_managers )\n",
    "client[:].push   ( {'all_managers': all_managers} )\n",
    "\n",
    "print( 'We have {0} managers'.format(  len(all_managers) ))"
   ]
  },
  {
   "cell_type": "markdown",
   "metadata": {},
   "source": [
    "### Scatter Ancerno by managers"
   ]
  },
  {
   "cell_type": "code",
   "execution_count": 15,
   "metadata": {
    "collapsed": false
   },
   "outputs": [
    {
     "name": "stdout",
     "output_type": "stream",
     "text": [
      "Wall time: 4min 32s\n"
     ]
    }
   ],
   "source": [
    "%%time\n",
    "# 4 minutes\n",
    "for cluster in client:\n",
    "    cluster_managers = cluster.pull('managers').get()\n",
    "    cluster.push( {'dff':dff[dff['ManagerCode'].isin(cluster_managers)]} )"
   ]
  },
  {
   "cell_type": "code",
   "execution_count": 16,
   "metadata": {
    "collapsed": false
   },
   "outputs": [
    {
     "name": "stdout",
     "output_type": "stream",
     "text": [
      "Wall time: 2min 6s\n"
     ]
    }
   ],
   "source": [
    "%%time\n",
    "SVOL_mean = ni(SVOL_mean)  # This is the CRSP avg dollar volume\n",
    "SVOL_mean = SVOL_mean[SVOL_mean['PERMNO'].isin(stocks)]\n",
    "SVOL_mean = SVOL_mean.groupby(['PERMNO', 'date']).mean()\n",
    "\n",
    "client[:].push( {'SVOL_mean':SVOL_mean} )\n",
    "\n",
    "# This merge takes long\n",
    "%px dff = ni(dff, ['permno', t])\n",
    "%px dff['CRSP_SVOL_avg'] = SVOL_mean\n",
    "%px del SVOL_mean;"
   ]
  },
  {
   "cell_type": "markdown",
   "metadata": {},
   "source": [
    "<br/><br/>"
   ]
  },
  {
   "cell_type": "markdown",
   "metadata": {},
   "source": [
    "# Stock-level Condition\n",
    "\n",
    "A stock S is sold heavily by manager M if the volume traded by M is large relative to the aggregate average CRSP volume of S.\n",
    "\n",
    "The threshold is set to the leftmost percentile of the distribution of \n",
    "\n",
    "$$ Vol \\, Ratio = \\frac{Vol \\, Manager}{Vol \\, CRSP} $$"
   ]
  },
  {
   "cell_type": "code",
   "execution_count": 17,
   "metadata": {
    "collapsed": false
   },
   "outputs": [],
   "source": [
    "%%px\n",
    "\n",
    "dff  = ni(dff)\n",
    "\n",
    "X = 'SVol'\n",
    "\n",
    "dff['DVol'] = dff['DollarVolume'] * dff['Side']\n",
    "dff['SVol'] = dff['ShareVolume' ] * dff['Side']\n",
    "\n",
    "aggr = { 'DVol':'sum', 'SVol':'sum', 'CRSP_SVOL_avg':'mean' }\n",
    "dff2 = dff.groupby(['permno','TradeDate', 'ManagerCode']).agg( aggr ).reset_index()\n",
    "\n",
    "dff2['vol_ratio_avg'] = dff2[X] / dff2['CRSP_SVOL_avg']"
   ]
  },
  {
   "cell_type": "code",
   "execution_count": null,
   "metadata": {
    "collapsed": true
   },
   "outputs": [],
   "source": [
    "%px vol_ratio = dff2['vol_ratio_avg']\n",
    "vol_ratio     = pd.concat( client[:].gather( 'vol_ratio' ).get() )\n",
    "Q_vol_ratio   = vol_ratio.dropna().quantile(0.01)\n",
    "client[:].push( {'Q_vol_ratio':Q_vol_ratio} )\n",
    "print('Threshold for vol_ratio: {0}'.format(Q_vol_ratio))"
   ]
  },
  {
   "cell_type": "code",
   "execution_count": 19,
   "metadata": {
    "collapsed": false
   },
   "outputs": [],
   "source": [
    "%%px\n",
    "THR2 = Q_vol_ratio\n",
    "large_sales_avg      = dff2[ ( dff2['vol_ratio_avg'] < THR2 ) ]\n",
    "large_sales_avg.set_index(['permno', t], inplace=1)"
   ]
  },
  {
   "cell_type": "code",
   "execution_count": 20,
   "metadata": {
    "collapsed": false
   },
   "outputs": [
    {
     "data": {
      "text/plain": [
       "416.6"
      ]
     },
     "execution_count": 20,
     "metadata": {},
     "output_type": "execute_result"
    }
   ],
   "source": [
    "large_sales_avg  = pd.concat( client[:].gather( 'large_sales_avg' ).get() )\n",
    "len( large_sales_avg ) / 10**3  # in thousands"
   ]
  },
  {
   "cell_type": "markdown",
   "metadata": {},
   "source": [
    "<br/><br/>"
   ]
  },
  {
   "cell_type": "markdown",
   "metadata": {},
   "source": [
    "# Portfolio-level Condition\n",
    "\n",
    "A manager M is in distress during period $\\pi=(t_1, t_2)$ if its order imbalance ( averaged over $\\pi$ ) is unusually negative.\n",
    "\n",
    "The threshold is set to the 5th percentile of the distribution of the standardized order imbalance of the manager."
   ]
  },
  {
   "cell_type": "code",
   "execution_count": 21,
   "metadata": {
    "collapsed": false
   },
   "outputs": [],
   "source": [
    "%%px\n",
    "portfolio = dff2.groupby([c,t])[[ 'SVol', 'DVol' ]].sum()\n",
    "\n",
    "# Compute Z-score\n",
    "portfolio['mean'] = portfolio[X].rolling( window=60, min_periods=30 ).mean()\n",
    "portfolio['std' ] = portfolio[X].rolling( window=60, min_periods=30 ).std ()\n",
    "portfolio['Z'   ] = ( portfolio[X] - portfolio['mean'] ) / portfolio['std']"
   ]
  },
  {
   "cell_type": "code",
   "execution_count": 22,
   "metadata": {
    "collapsed": false
   },
   "outputs": [
    {
     "data": {
      "text/plain": [
       "-1.5247406619991108"
      ]
     },
     "execution_count": 22,
     "metadata": {},
     "output_type": "execute_result"
    }
   ],
   "source": [
    "%px Z_score = portfolio['Z']\n",
    "Z_score     = pd.concat( client[:].gather( 'Z_score' ).get() )\n",
    "Q_Z_score   = Z_score.dropna().quantile(0.05)\n",
    "client[:].push( {'Q_Z_score':Q_Z_score} )\n",
    "Q_Z_score"
   ]
  },
  {
   "cell_type": "code",
   "execution_count": 23,
   "metadata": {
    "collapsed": false
   },
   "outputs": [],
   "source": [
    "%%px\n",
    "DAYS = 5\n",
    "THR  = Q_Z_score\n",
    "\n",
    "selloff           = ni(portfolio, t).groupby(c).rolling( window=DAYS )['Z'].mean()\n",
    "portfolio['fire'] = np.where( selloff <= THR, 1, np.NaN )\n",
    "\n",
    "portfolio['fire'].fillna( method='bfill', limit=DAYS-1, inplace=1 )\n",
    "\n",
    "fire              = portfolio[portfolio['fire']==1][['DVol', 'Z']]\n",
    "\n",
    "fire             = ni(fire)\n",
    "fire['seq' ]     = np.where( fire[t] - BDay(1) == fire.groupby(c)[t].shift(), 0, 1 ).cumsum()\n",
    "fire['seq' ]     = fire['seq' ].apply( lambda x: float('{0:1.2f}'.format(x + i / 100)) )\n",
    "\n",
    "fire['et'  ]     = 1\n",
    "fire['et'  ]     = fire.groupby('seq')['et' ].cumsum()\n",
    "fire             = ni(fire, 'seq')"
   ]
  },
  {
   "cell_type": "markdown",
   "metadata": {},
   "source": [
    "<br/><br/>"
   ]
  },
  {
   "cell_type": "markdown",
   "metadata": {},
   "source": [
    "# Cross Condition\n",
    "\n",
    "A stock $S$ is under fire sale by manager $M$ if both the above conditions hold at the same time"
   ]
  },
  {
   "cell_type": "code",
   "execution_count": 24,
   "metadata": {
    "collapsed": true
   },
   "outputs": [],
   "source": [
    "%%px\n",
    "\n",
    "def large_sales(seq):\n",
    "    \n",
    "    man  = seq['ManagerCode'].min()\n",
    "    \n",
    "    env  = dff[ dff[t].isin( seq[t] ) ].copy()\n",
    "    env  = env[env['ManagerCode']==man   ]\n",
    "    env  = env[env['Side']==-1]\n",
    "\n",
    "    env  = env.groupby(['permno', t]).mean()                      # Why the index is NOT unique? Multiple brokers\n",
    "    \n",
    "    sales = large_sales_avg[large_sales_avg['ManagerCode']==man]\n",
    "    env.loc[:,'vol_ratio'] = sales['vol_ratio_avg']\n",
    "    \n",
    "    env = env.reset_index()\n",
    "    env = env.merge( seq[['et', t]], on=t )\n",
    "    env = env.set_index(['permno', t])\n",
    "    \n",
    "    env['len']   = seq['et'].max()\n",
    "    env['end']   = seq[t   ].max()\n",
    "    env['start'] = seq[t   ].min()\n",
    "    \n",
    "    return env.dropna(subset=['vol_ratio'])"
   ]
  },
  {
   "cell_type": "code",
   "execution_count": 25,
   "metadata": {
    "collapsed": false,
    "scrolled": false
   },
   "outputs": [
    {
     "name": "stdout",
     "output_type": "stream",
     "text": [
      "Wall time: 48 s\n"
     ]
    }
   ],
   "source": [
    "%%time\n",
    "# 1 minute\n",
    "%px fire_sales  = fire.groupby(level=0).apply( large_sales )\n",
    "%px fire_stocks = ni(fire_sales)['permno'].unique()"
   ]
  },
  {
   "cell_type": "code",
   "execution_count": 26,
   "metadata": {
    "collapsed": false
   },
   "outputs": [
    {
     "name": "stdout",
     "output_type": "stream",
     "text": [
      "Wall time: 1min 5s\n"
     ]
    }
   ],
   "source": [
    "%%time\n",
    "# 1 minute\n",
    "for cluster in client:\n",
    "    fire_stocks = cluster.pull('fire_stocks').get()\n",
    "    cluster.push( {'CRSP':CRSP_big[CRSP_big['PERMNO'].isin(fire_stocks)]} )"
   ]
  },
  {
   "cell_type": "code",
   "execution_count": 27,
   "metadata": {
    "collapsed": true
   },
   "outputs": [],
   "source": [
    "%%px\n",
    "\n",
    "WIN = 60\n",
    "\n",
    "def seq_rets(seq):\n",
    "        \n",
    "    period = pd.date_range(  seq['start'].min() - BDay(WIN),  seq['end'].max() + BDay(WIN) )\n",
    "    env    = CRSP[ CRSP['date'].isin( period ) ].copy()\n",
    "    env    = env[env['PERMNO'].isin( seq['permno'].unique() ) ]\n",
    "    env.rename_axis({ 'date':t }, axis=1, inplace=1)\n",
    "        \n",
    "    env['et']    = event_time( seq['start'].min(), env[t] )\n",
    "    \n",
    "    env['len']   = seq['et'].max()\n",
    "    env['end']   = seq[t].max()\n",
    "    env['start'] = seq[t].min()\n",
    "    env['auth']  = seq[c].min()\n",
    "    \n",
    "    return env"
   ]
  },
  {
   "cell_type": "code",
   "execution_count": 28,
   "metadata": {
    "collapsed": false,
    "scrolled": true
   },
   "outputs": [
    {
     "name": "stdout",
     "output_type": "stream",
     "text": [
      "Wall time: 1min 31s\n"
     ]
    }
   ],
   "source": [
    "%%time\n",
    "# 1.5 minutes\n",
    "%px CRSP = ni(CRSP)\n",
    "%px fire_rets = ni(fire_sales).groupby('seq').apply( seq_rets )\n",
    "%px fire_rets = fire_rets.reset_index()"
   ]
  },
  {
   "cell_type": "markdown",
   "metadata": {},
   "source": [
    "<br/><br/>"
   ]
  },
  {
   "cell_type": "markdown",
   "metadata": {},
   "source": [
    "# Gather results and apply filters"
   ]
  },
  {
   "cell_type": "code",
   "execution_count": 38,
   "metadata": {
    "collapsed": false
   },
   "outputs": [
    {
     "name": "stdout",
     "output_type": "stream",
     "text": [
      "We have 252 sequences and 12206 stocks\n",
      "Hence, sequences have on average 48 stocks\n",
      "Wall time: 12.7 s\n"
     ]
    }
   ],
   "source": [
    "%%time\n",
    "\n",
    "fire      = pd.concat( client[:].gather( 'fire_sales' ).get() )\n",
    "fire_rets = pd.concat( client[:].gather( 'fire_rets'  ).get() )\n",
    "fire_rets = ni(fire_rets)\n",
    "\n",
    "y = ni(fire_rets).groupby(['seq','PERMNO']).first().groupby(level=0).size()\n",
    "fire_rets = ni(fire_rets, 'seq')\n",
    "fire_rets['stocks'] = y\n",
    "fire_rets = ni(fire_rets)\n",
    "\n",
    "\n",
    "# Filter : At least 15 stocks\n",
    "y  = fire_rets  \n",
    "y  = y[y['stocks']>=15 ]\n",
    "\n",
    "# Filter : Exclude the financial crisis\n",
    "# crisis = pd.date_range( pd.datetime(2007,9,1), pd.datetime(2009,1,1) ) \n",
    "# y = y[-y['start'].isin(crisis) ]\n",
    "\n",
    "y  = y['seq'].unique()\n",
    "\n",
    "fire = ni(fire)\n",
    "fire = fire[fire['seq'].isin(y)]\n",
    "fire = ni(fire, ['seq', 'permno', t])\n",
    "\n",
    "fire_rets = fire_rets[fire_rets['seq'].isin(y)]\n",
    "\n",
    "\n",
    "n = len( fire.groupby(level=0    ).first() )\n",
    "m = len( fire.groupby(level=[0,1]).first() )\n",
    "print( 'We have {0} sequences and {1} stocks'.format( n, m ) )\n",
    "print( 'Hence, sequences have on average {0:1.0f} stocks'.format( m / n ) )\n",
    "\n",
    "# Add DGTW Returns\n",
    "fire_rets = fire_rets.reset_index().merge( DGTW, left_on=['PERMNO',t], right_on=['permno', 'date'], how='left' )\n",
    "fire_rets = ni(fire_rets).drop(['index', 'level_1', 'PERMNO', 'date'], axis=1)"
   ]
  },
  {
   "cell_type": "markdown",
   "metadata": {},
   "source": [
    "<br/><br/>"
   ]
  },
  {
   "cell_type": "markdown",
   "metadata": {},
   "source": [
    "# Plot average returns "
   ]
  },
  {
   "cell_type": "code",
   "execution_count": 39,
   "metadata": {
    "collapsed": false,
    "scrolled": true
   },
   "outputs": [
    {
     "data": {
      "image/png": "[encoded data removed]",
      "text/plain": [
       "<matplotlib.figure.Figure at 0x461b940940>"
      ]
     },
     "metadata": {},
     "output_type": "display_data"
    }
   ],
   "source": [
    "_ = plt.axvline(0 , linestyle=':', color=sns.xkcd_rgb[\"blue\"] )\n",
    "_ = plt.axvline(10, linestyle=':', color=sns.xkcd_rgb[\"blue\"] )\n",
    "_ = plt.axvspan(0 , 10, color=sns.xkcd_rgb[\"lightblue\"], alpha=0.1, lw=0)\n",
    "\n",
    "y = fire_rets[fire_rets['et'].isin(range(-30,30))]  \n",
    "\n",
    "_ = y.groupby('et')['dgtw_xret'].mean().cumsum().plot( marker='o', figsize=(10,4) )\n",
    "plt.tight_layout()"
   ]
  },
  {
   "cell_type": "markdown",
   "metadata": {},
   "source": [
    "<br/><br/>"
   ]
  },
  {
   "cell_type": "markdown",
   "metadata": {},
   "source": [
    "# Export"
   ]
  },
  {
   "cell_type": "code",
   "execution_count": 40,
   "metadata": {
    "collapsed": false,
    "scrolled": false
   },
   "outputs": [],
   "source": [
    "temp = fire.reset_index().sort_index()\\\n",
    ".groupby(['permno', 'ManagerCode', t])[['seq', 'DVol', 'vol_ratio']].first()\\\n",
    ".sort_values(by='DVol' )\n",
    "\n",
    "temp.to_csv('Fire_sales_2.csv')"
   ]
  },
  {
   "cell_type": "code",
   "execution_count": 42,
   "metadata": {
    "collapsed": false,
    "scrolled": true
   },
   "outputs": [
    {
     "data": {
      "text/html": [
       "<div>\n",
       "<table border=\"1\" class=\"dataframe\">\n",
       "  <thead>\n",
       "    <tr style=\"text-align: right;\">\n",
       "      <th></th>\n",
       "      <th>seq</th>\n",
       "      <th>DVol</th>\n",
       "      <th>vol_ratio</th>\n",
       "    </tr>\n",
       "  </thead>\n",
       "  <tbody>\n",
       "    <tr>\n",
       "      <th>count</th>\n",
       "      <td>18598.000000</td>\n",
       "      <td>18598.000000</td>\n",
       "      <td>18598.000000</td>\n",
       "    </tr>\n",
       "    <tr>\n",
       "      <th>mean</th>\n",
       "      <td>155.233785</td>\n",
       "      <td>-5.846796</td>\n",
       "      <td>-0.826703</td>\n",
       "    </tr>\n",
       "    <tr>\n",
       "      <th>std</th>\n",
       "      <td>84.210745</td>\n",
       "      <td>47.059254</td>\n",
       "      <td>3.785412</td>\n",
       "    </tr>\n",
       "    <tr>\n",
       "      <th>min</th>\n",
       "      <td>2.010000</td>\n",
       "      <td>-5801.330009</td>\n",
       "      <td>-438.820004</td>\n",
       "    </tr>\n",
       "    <tr>\n",
       "      <th>25%</th>\n",
       "      <td>87.160000</td>\n",
       "      <td>-4.089111</td>\n",
       "      <td>-0.728758</td>\n",
       "    </tr>\n",
       "    <tr>\n",
       "      <th>50%</th>\n",
       "      <td>158.020000</td>\n",
       "      <td>-1.131027</td>\n",
       "      <td>-0.461053</td>\n",
       "    </tr>\n",
       "    <tr>\n",
       "      <th>75%</th>\n",
       "      <td>216.080000</td>\n",
       "      <td>-0.307159</td>\n",
       "      <td>-0.341406</td>\n",
       "    </tr>\n",
       "    <tr>\n",
       "      <th>max</th>\n",
       "      <td>340.040000</td>\n",
       "      <td>-0.001485</td>\n",
       "      <td>-0.272130</td>\n",
       "    </tr>\n",
       "  </tbody>\n",
       "</table>\n",
       "</div>"
      ],
      "text/plain": [
       "                seq          DVol     vol_ratio\n",
       "count  18598.000000  18598.000000  18598.000000\n",
       "mean     155.233785     -5.846796     -0.826703\n",
       "std       84.210745     47.059254      3.785412\n",
       "min        2.010000  -5801.330009   -438.820004\n",
       "25%       87.160000     -4.089111     -0.728758\n",
       "50%      158.020000     -1.131027     -0.461053\n",
       "75%      216.080000     -0.307159     -0.341406\n",
       "max      340.040000     -0.001485     -0.272130"
      ]
     },
     "execution_count": 42,
     "metadata": {},
     "output_type": "execute_result"
    }
   ],
   "source": [
    "temp.describe()"
   ]
  },
  {
   "cell_type": "markdown",
   "metadata": {},
   "source": [
    "<br/><br/>"
   ]
  }
 ],
 "metadata": {
  "anaconda-cloud": {},
  "kernelspec": {
   "display_name": "Python [Root]",
   "language": "python",
   "name": "Python [Root]"
  },
  "language_info": {
   "codemirror_mode": {
    "name": "ipython",
    "version": 3
   },
   "file_extension": ".py",
   "mimetype": "text/x-python",
   "name": "python",
   "nbconvert_exporter": "python",
   "pygments_lexer": "ipython3",
   "version": "3.5.2"
  }
 },
 "nbformat": 4,
 "nbformat_minor": 0
}
