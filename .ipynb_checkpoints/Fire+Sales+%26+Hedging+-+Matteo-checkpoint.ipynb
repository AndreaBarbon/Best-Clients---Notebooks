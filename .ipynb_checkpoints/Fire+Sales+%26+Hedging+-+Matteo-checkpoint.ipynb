{
 "cells": [
  {
   "cell_type": "markdown",
   "metadata": {},
   "source": [
    "# Init"
   ]
  },
  {
   "cell_type": "code",
   "execution_count": 2,
   "metadata": {
    "ExecuteTime": {
     "end_time": "2017-06-23T18:27:03.782235",
     "start_time": "2017-06-23T18:27:02.909386"
    },
    "run_control": {
     "frozen": false,
     "read_only": false
    }
   },
   "outputs": [
    {
     "name": "stdout",
     "output_type": "stream",
     "text": [
      "Populating the interactive namespace from numpy and matplotlib\n"
     ]
    }
   ],
   "source": [
    "%pylab inline"
   ]
  },
  {
   "cell_type": "code",
   "execution_count": 32,
   "metadata": {
    "ExecuteTime": {
     "end_time": "2017-06-23T23:28:15.442869",
     "start_time": "2017-06-23T23:28:15.432859"
    },
    "collapsed": true,
    "init_cell": true,
    "run_control": {
     "frozen": false,
     "read_only": false
    }
   },
   "outputs": [],
   "source": [
    "import itertools, os\n",
    "import pandas as pd\n",
    "import numpy  as np\n",
    "import statsmodels.formula.api as smf\n",
    "from pandas.tseries.offsets import *\n",
    "pd.options.display.float_format = '{:,.2f}'.format"
   ]
  },
  {
   "cell_type": "markdown",
   "metadata": {},
   "source": [
    "## Fire Sales"
   ]
  },
  {
   "cell_type": "code",
   "execution_count": 6,
   "metadata": {
    "ExecuteTime": {
     "end_time": "2017-06-23T18:36:47.702808",
     "start_time": "2017-06-23T18:35:50.400998"
    },
    "collapsed": true,
    "run_control": {
     "frozen": false,
     "read_only": false
    }
   },
   "outputs": [],
   "source": [
    "ds = pd.read_stata('G:\\\\Andrea\\\\Python\\\\Best Clients\\\\fire_sales_pi.dta')\n",
    "ds = ds[(ds['et']>=0)]"
   ]
  },
  {
   "cell_type": "code",
   "execution_count": 18,
   "metadata": {
    "ExecuteTime": {
     "end_time": "2017-06-23T18:49:11.728800",
     "start_time": "2017-06-23T18:49:10.059171"
    },
    "collapsed": true
   },
   "outputs": [],
   "source": [
    "te = ds[ds['et']<ds['len']].groupby(['seq_id', 'permno']).agg({\n",
    "    'pi':'max', 'u':'max', 'ret':'sum',\n",
    "    'dgtw_xret':'sum', 'vol':'sum'\n",
    "}).dropna()"
   ]
  },
  {
   "cell_type": "code",
   "execution_count": 19,
   "metadata": {
    "ExecuteTime": {
     "end_time": "2017-06-23T18:49:11.741811",
     "start_time": "2017-06-23T18:49:11.730800"
    }
   },
   "outputs": [
    {
     "data": {
      "text/html": [
       "<div>\n",
       "<table border=\"1\" class=\"dataframe\">\n",
       "  <thead>\n",
       "    <tr style=\"text-align: right;\">\n",
       "      <th></th>\n",
       "      <th></th>\n",
       "      <th>ret</th>\n",
       "      <th>dgtw_xret</th>\n",
       "      <th>pi</th>\n",
       "      <th>vol</th>\n",
       "      <th>u</th>\n",
       "    </tr>\n",
       "    <tr>\n",
       "      <th>seq_id</th>\n",
       "      <th>permno</th>\n",
       "      <th></th>\n",
       "      <th></th>\n",
       "      <th></th>\n",
       "      <th></th>\n",
       "      <th></th>\n",
       "    </tr>\n",
       "  </thead>\n",
       "  <tbody>\n",
       "    <tr>\n",
       "      <th rowspan=\"5\" valign=\"top\">6.00</th>\n",
       "      <th>10032</th>\n",
       "      <td>0.05</td>\n",
       "      <td>-0.04</td>\n",
       "      <td>1,918.10</td>\n",
       "      <td>4,704,467.00</td>\n",
       "      <td>0.00</td>\n",
       "    </tr>\n",
       "    <tr>\n",
       "      <th>10078</th>\n",
       "      <td>0.18</td>\n",
       "      <td>0.11</td>\n",
       "      <td>1,529.68</td>\n",
       "      <td>126,332,845.00</td>\n",
       "      <td>0.00</td>\n",
       "    </tr>\n",
       "    <tr>\n",
       "      <th>10104</th>\n",
       "      <td>0.08</td>\n",
       "      <td>-0.02</td>\n",
       "      <td>1,428.86</td>\n",
       "      <td>228,078,215.00</td>\n",
       "      <td>0.00</td>\n",
       "    </tr>\n",
       "    <tr>\n",
       "      <th>10107</th>\n",
       "      <td>0.05</td>\n",
       "      <td>0.02</td>\n",
       "      <td>888.15</td>\n",
       "      <td>403,860,076.00</td>\n",
       "      <td>0.00</td>\n",
       "    </tr>\n",
       "    <tr>\n",
       "      <th>10108</th>\n",
       "      <td>0.05</td>\n",
       "      <td>0.03</td>\n",
       "      <td>605.54</td>\n",
       "      <td>7,825,400.00</td>\n",
       "      <td>0.00</td>\n",
       "    </tr>\n",
       "  </tbody>\n",
       "</table>\n",
       "</div>"
      ],
      "text/plain": [
       "               ret  dgtw_xret       pi            vol    u\n",
       "seq_id permno                                             \n",
       "6.00   10032  0.05      -0.04 1,918.10   4,704,467.00 0.00\n",
       "       10078  0.18       0.11 1,529.68 126,332,845.00 0.00\n",
       "       10104  0.08      -0.02 1,428.86 228,078,215.00 0.00\n",
       "       10107  0.05       0.02   888.15 403,860,076.00 0.00\n",
       "       10108  0.05       0.03   605.54   7,825,400.00 0.00"
      ]
     },
     "execution_count": 19,
     "metadata": {},
     "output_type": "execute_result"
    }
   ],
   "source": [
    "te.head()"
   ]
  },
  {
   "cell_type": "code",
   "execution_count": 20,
   "metadata": {
    "ExecuteTime": {
     "end_time": "2017-06-23T18:49:16.226179",
     "start_time": "2017-06-23T18:49:15.257235"
    },
    "collapsed": true,
    "run_control": {
     "frozen": false,
     "read_only": false
    }
   },
   "outputs": [],
   "source": [
    "te['pi_rnk'] = te.groupby(level=0)['pi'].rank(pct=1)"
   ]
  },
  {
   "cell_type": "code",
   "execution_count": 21,
   "metadata": {
    "ExecuteTime": {
     "end_time": "2017-06-23T18:49:39.722063",
     "start_time": "2017-06-23T18:49:38.821186"
    }
   },
   "outputs": [
    {
     "data": {
      "image/png": "[encoded data removed]",
      "text/plain": [
       "<matplotlib.figure.Figure at 0x1b80c2a048>"
      ]
     },
     "metadata": {},
     "output_type": "display_data"
    }
   ],
   "source": [
    "te.xs(6)['pi'].hist(bins=100);"
   ]
  },
  {
   "cell_type": "code",
   "execution_count": 22,
   "metadata": {
    "ExecuteTime": {
     "end_time": "2017-06-23T18:49:55.214153",
     "start_time": "2017-06-23T18:49:50.560620"
    },
    "collapsed": true,
    "run_control": {
     "frozen": false,
     "read_only": false
    }
   },
   "outputs": [],
   "source": [
    "post_event_window = (ds['et']>=ds['len']) & (ds['et']<=ds['len']+5)\n",
    "po = ds[post_event_window].groupby(['seq_id', 'permno']).agg({\n",
    "    'pi':'max', 'u':'max', 'ret':'sum',\n",
    "    'dgtw_xret':'sum', 'vol':'sum'\n",
    "}).dropna()\n",
    "\n",
    "po['u'] = te['u']"
   ]
  },
  {
   "cell_type": "code",
   "execution_count": 30,
   "metadata": {
    "ExecuteTime": {
     "end_time": "2017-06-23T18:55:58.515222",
     "start_time": "2017-06-23T18:55:57.971691"
    },
    "run_control": {
     "frozen": false,
     "read_only": false
    },
    "scrolled": false
   },
   "outputs": [
    {
     "data": {
      "text/html": [
       "<table class=\"simpletable\">\n",
       "<tr>\n",
       "      <td></td>         <th>coef</th>     <th>std err</th>      <th>t</th>      <th>P>|t|</th> <th>[95.0% Conf. Int.]</th> \n",
       "</tr>\n",
       "<tr>\n",
       "  <th>Intercept</th> <td>    0.0045</td> <td>    0.000</td> <td>   38.260</td> <td> 0.000</td> <td>    0.004     0.005</td>\n",
       "</tr>\n",
       "<tr>\n",
       "  <th>pi</th>        <td> 9.588e-06</td> <td> 2.74e-07</td> <td>   34.935</td> <td> 0.000</td> <td> 9.05e-06  1.01e-05</td>\n",
       "</tr>\n",
       "<tr>\n",
       "  <th>u</th>         <td>   -0.0005</td> <td> 6.21e-05</td> <td>   -7.399</td> <td> 0.000</td> <td>   -0.001    -0.000</td>\n",
       "</tr>\n",
       "</table>"
      ],
      "text/plain": [
       "<class 'statsmodels.iolib.table.SimpleTable'>"
      ]
     },
     "execution_count": 30,
     "metadata": {},
     "output_type": "execute_result"
    }
   ],
   "source": [
    "smf.ols(\"ret ~ pi + u\", te).fit().summary().tables[1]"
   ]
  },
  {
   "cell_type": "code",
   "execution_count": 247,
   "metadata": {
    "ExecuteTime": {
     "end_time": "2017-06-23T17:55:53.558540",
     "start_time": "2017-06-23T17:55:52.942867"
    },
    "run_control": {
     "frozen": false,
     "read_only": false
    },
    "scrolled": true
   },
   "outputs": [
    {
     "data": {
      "text/html": [
       "<table class=\"simpletable\">\n",
       "<tr>\n",
       "      <td></td>         <th>coef</th>     <th>std err</th>      <th>t</th>      <th>P>|t|</th> <th>[95.0% Conf. Int.]</th> \n",
       "</tr>\n",
       "<tr>\n",
       "  <th>Intercept</th> <td>    0.0029</td> <td>    0.000</td> <td>   24.683</td> <td> 0.000</td> <td>    0.003     0.003</td>\n",
       "</tr>\n",
       "<tr>\n",
       "  <th>pi</th>        <td>-4.527e-07</td> <td>  2.7e-07</td> <td>   -1.679</td> <td> 0.093</td> <td>-9.81e-07  7.56e-08</td>\n",
       "</tr>\n",
       "<tr>\n",
       "  <th>u</th>         <td>-4.005e-06</td> <td>  6.1e-05</td> <td>   -0.066</td> <td> 0.948</td> <td>   -0.000     0.000</td>\n",
       "</tr>\n",
       "</table>"
      ],
      "text/plain": [
       "<class 'statsmodels.iolib.table.SimpleTable'>"
      ]
     },
     "execution_count": 247,
     "metadata": {},
     "output_type": "execute_result"
    }
   ],
   "source": [
    "smf.ols(\"ret ~ pi + u\", po).fit().summary().tables[1]"
   ]
  },
  {
   "cell_type": "code",
   "execution_count": 248,
   "metadata": {
    "ExecuteTime": {
     "end_time": "2017-06-23T18:05:14.482077",
     "start_time": "2017-06-23T18:05:13.997597"
    },
    "run_control": {
     "frozen": false,
     "read_only": false
    }
   },
   "outputs": [
    {
     "data": {
      "text/html": [
       "<table class=\"simpletable\">\n",
       "<tr>\n",
       "      <td></td>         <th>coef</th>     <th>std err</th>      <th>t</th>      <th>P>|t|</th> <th>[95.0% Conf. Int.]</th> \n",
       "</tr>\n",
       "<tr>\n",
       "  <th>Intercept</th> <td> 1.393e+07</td> <td> 8.32e+04</td> <td>  167.511</td> <td> 0.000</td> <td> 1.38e+07  1.41e+07</td>\n",
       "</tr>\n",
       "<tr>\n",
       "  <th>pi</th>        <td> 6285.3257</td> <td>  193.521</td> <td>   32.479</td> <td> 0.000</td> <td> 5906.030  6664.621</td>\n",
       "</tr>\n",
       "<tr>\n",
       "  <th>u</th>         <td> 6.384e+05</td> <td> 4.38e+04</td> <td>   14.571</td> <td> 0.000</td> <td> 5.53e+05  7.24e+05</td>\n",
       "</tr>\n",
       "</table>"
      ],
      "text/plain": [
       "<class 'statsmodels.iolib.table.SimpleTable'>"
      ]
     },
     "execution_count": 248,
     "metadata": {},
     "output_type": "execute_result"
    }
   ],
   "source": [
    "smf.ols(\"vol ~ pi + u\", te).fit().summary().tables[1]"
   ]
  },
  {
   "cell_type": "code",
   "execution_count": 31,
   "metadata": {
    "ExecuteTime": {
     "end_time": "2017-06-23T18:56:20.140327",
     "start_time": "2017-06-23T18:56:19.452657"
    },
    "collapsed": true,
    "run_control": {
     "frozen": false,
     "read_only": false
    }
   },
   "outputs": [
    {
     "data": {
      "text/html": [
       "<table class=\"simpletable\">\n",
       "<caption>OLS Regression Results</caption>\n",
       "<tr>\n",
       "  <th>Dep. Variable:</th>           <td>vol</td>       <th>  R-squared:         </th>  <td>   0.003</td>  \n",
       "</tr>\n",
       "<tr>\n",
       "  <th>Model:</th>                   <td>OLS</td>       <th>  Adj. R-squared:    </th>  <td>   0.003</td>  \n",
       "</tr>\n",
       "<tr>\n",
       "  <th>Method:</th>             <td>Least Squares</td>  <th>  F-statistic:       </th>  <td>   672.2</td>  \n",
       "</tr>\n",
       "<tr>\n",
       "  <th>Date:</th>             <td>Fri, 23 Jun 2017</td> <th>  Prob (F-statistic):</th>  <td>3.08e-292</td> \n",
       "</tr>\n",
       "<tr>\n",
       "  <th>Time:</th>                 <td>18:56:20</td>     <th>  Log-Likelihood:    </th> <td>-9.1089e+06</td>\n",
       "</tr>\n",
       "<tr>\n",
       "  <th>No. Observations:</th>      <td>476789</td>      <th>  AIC:               </th>  <td>1.822e+07</td> \n",
       "</tr>\n",
       "<tr>\n",
       "  <th>Df Residuals:</th>          <td>476786</td>      <th>  BIC:               </th>  <td>1.822e+07</td> \n",
       "</tr>\n",
       "<tr>\n",
       "  <th>Df Model:</th>              <td>     2</td>      <th>                     </th>      <td> </td>     \n",
       "</tr>\n",
       "<tr>\n",
       "  <th>Covariance Type:</th>      <td>nonrobust</td>    <th>                     </th>      <td> </td>     \n",
       "</tr>\n",
       "</table>\n",
       "<table class=\"simpletable\">\n",
       "<tr>\n",
       "      <td></td>         <th>coef</th>     <th>std err</th>      <th>t</th>      <th>P>|t|</th> <th>[95.0% Conf. Int.]</th> \n",
       "</tr>\n",
       "<tr>\n",
       "  <th>Intercept</th> <td> 1.338e+07</td> <td> 7.81e+04</td> <td>  171.284</td> <td> 0.000</td> <td> 1.32e+07  1.35e+07</td>\n",
       "</tr>\n",
       "<tr>\n",
       "  <th>pi</th>        <td> 6076.9578</td> <td>  181.552</td> <td>   33.472</td> <td> 0.000</td> <td> 5721.122  6432.793</td>\n",
       "</tr>\n",
       "<tr>\n",
       "  <th>u</th>         <td> 5.366e+05</td> <td> 4.11e+04</td> <td>   13.063</td> <td> 0.000</td> <td> 4.56e+05  6.17e+05</td>\n",
       "</tr>\n",
       "</table>\n",
       "<table class=\"simpletable\">\n",
       "<tr>\n",
       "  <th>Omnibus:</th>       <td>1095083.302</td> <th>  Durbin-Watson:     </th>    <td>   1.876</td>    \n",
       "</tr>\n",
       "<tr>\n",
       "  <th>Prob(Omnibus):</th>   <td> 0.000</td>    <th>  Jarque-Bera (JB):  </th> <td>17154773896.800</td>\n",
       "</tr>\n",
       "<tr>\n",
       "  <th>Skew:</th>            <td>22.133</td>    <th>  Prob(JB):          </th>    <td>    0.00</td>    \n",
       "</tr>\n",
       "<tr>\n",
       "  <th>Kurtosis:</th>        <td>931.200</td>   <th>  Cond. No.          </th>    <td>    485.</td>    \n",
       "</tr>\n",
       "</table>"
      ],
      "text/plain": [
       "<class 'statsmodels.iolib.summary.Summary'>\n",
       "\"\"\"\n",
       "                            OLS Regression Results                            \n",
       "==============================================================================\n",
       "Dep. Variable:                    vol   R-squared:                       0.003\n",
       "Model:                            OLS   Adj. R-squared:                  0.003\n",
       "Method:                 Least Squares   F-statistic:                     672.2\n",
       "Date:                Fri, 23 Jun 2017   Prob (F-statistic):          3.08e-292\n",
       "Time:                        18:56:20   Log-Likelihood:            -9.1089e+06\n",
       "No. Observations:              476789   AIC:                         1.822e+07\n",
       "Df Residuals:                  476786   BIC:                         1.822e+07\n",
       "Df Model:                           2                                         \n",
       "Covariance Type:            nonrobust                                         \n",
       "==============================================================================\n",
       "                 coef    std err          t      P>|t|      [95.0% Conf. Int.]\n",
       "------------------------------------------------------------------------------\n",
       "Intercept   1.338e+07   7.81e+04    171.284      0.000      1.32e+07  1.35e+07\n",
       "pi          6076.9578    181.552     33.472      0.000      5721.122  6432.793\n",
       "u           5.366e+05   4.11e+04     13.063      0.000      4.56e+05  6.17e+05\n",
       "==============================================================================\n",
       "Omnibus:                  1095083.302   Durbin-Watson:                   1.876\n",
       "Prob(Omnibus):                  0.000   Jarque-Bera (JB):      17154773896.800\n",
       "Skew:                          22.133   Prob(JB):                         0.00\n",
       "Kurtosis:                     931.200   Cond. No.                         485.\n",
       "==============================================================================\n",
       "\n",
       "Warnings:\n",
       "[1] Standard Errors assume that the covariance matrix of the errors is correctly specified.\n",
       "\"\"\""
      ]
     },
     "execution_count": 31,
     "metadata": {},
     "output_type": "execute_result"
    }
   ],
   "source": [
    "smf.ols(\"vol ~ pi + u\", po).fit().summary()#.tables[1]"
   ]
  },
  {
   "cell_type": "code",
   "execution_count": null,
   "metadata": {
    "collapsed": true,
    "run_control": {
     "frozen": false,
     "read_only": false
    }
   },
   "outputs": [],
   "source": []
  },
  {
   "cell_type": "code",
   "execution_count": 28,
   "metadata": {
    "ExecuteTime": {
     "end_time": "2017-06-23T18:54:53.459112",
     "start_time": "2017-06-23T18:54:19.366907"
    },
    "collapsed": true,
    "run_control": {
     "frozen": false,
     "read_only": false
    }
   },
   "outputs": [],
   "source": [
    "ds.set_index(['seq_id', 'permno'], inplace=True)\n",
    "ds['pi_rnk'] = te['pi_rnk']\n",
    "ds.reset_index(inplace=True)"
   ]
  },
  {
   "cell_type": "code",
   "execution_count": null,
   "metadata": {
    "collapsed": true
   },
   "outputs": [],
   "source": []
  }
 ],
 "metadata": {
  "anaconda-cloud": {},
  "kernelspec": {
   "display_name": "Python 3",
   "language": "python",
   "name": "python3"
  },
  "language_info": {
   "codemirror_mode": {
    "name": "ipython",
    "version": 3
   },
   "file_extension": ".py",
   "mimetype": "text/x-python",
   "name": "python",
   "nbconvert_exporter": "python",
   "pygments_lexer": "ipython3",
   "version": "3.6.1"
  },
  "toc": {
   "colors": {
    "hover_highlight": "#DAA520",
    "navigate_num": "#000000",
    "navigate_text": "#333333",
    "running_highlight": "#FF0000",
    "selected_highlight": "#FFD700",
    "sidebar_border": "#EEEEEE",
    "wrapper_background": "#FFFFFF"
   },
   "moveMenuLeft": true,
   "nav_menu": {
    "height": "102px",
    "width": "252px"
   },
   "navigate_menu": true,
   "number_sections": true,
   "sideBar": true,
   "threshold": 4,
   "toc_cell": false,
   "toc_section_display": "block",
   "toc_window_display": false,
   "widenNotebook": false
  }
 },
 "nbformat": 4,
 "nbformat_minor": 1
}
