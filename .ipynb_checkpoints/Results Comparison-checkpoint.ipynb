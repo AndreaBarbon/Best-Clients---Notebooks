{
 "cells": [
  {
   "cell_type": "markdown",
   "metadata": {},
   "source": [
    "# Init"
   ]
  },
  {
   "cell_type": "code",
   "execution_count": 275,
   "metadata": {
    "ExecuteTime": {
     "end_time": "2018-05-16T08:21:36.818700Z",
     "start_time": "2018-05-16T08:21:36.705586Z"
    }
   },
   "outputs": [
    {
     "name": "stdout",
     "output_type": "stream",
     "text": [
      "Populating the interactive namespace from numpy and matplotlib\n"
     ]
    }
   ],
   "source": [
    "%pylab inline\n",
    "%config InlineBackend.figure_format = 'retina'"
   ]
  },
  {
   "cell_type": "code",
   "execution_count": 276,
   "metadata": {
    "ExecuteTime": {
     "end_time": "2018-05-16T08:21:37.376875Z",
     "start_time": "2018-05-16T08:21:37.369549Z"
    },
    "collapsed": true
   },
   "outputs": [],
   "source": [
    "import itertools, os; import pandas as pd; import numpy  as np\n",
    "from pandas.tseries.offsets import *\n",
    "import statsmodels.formula.api as smf\n",
    "import glob\n",
    "import xlsxwriter"
   ]
  },
  {
   "cell_type": "code",
   "execution_count": 277,
   "metadata": {
    "ExecuteTime": {
     "end_time": "2018-05-16T08:21:37.771974Z",
     "start_time": "2018-05-16T08:21:37.766545Z"
    },
    "collapsed": true
   },
   "outputs": [],
   "source": [
    "os.chdir(\"/Users/abramo/Dropbox/Results_X_N/\")"
   ]
  },
  {
   "cell_type": "markdown",
   "metadata": {
    "heading_collapsed": true
   },
   "source": [
    "# Main Tables"
   ]
  },
  {
   "cell_type": "code",
   "execution_count": 284,
   "metadata": {
    "ExecuteTime": {
     "end_time": "2018-05-17T07:13:50.662100Z",
     "start_time": "2018-05-17T07:13:50.174627Z"
    },
    "collapsed": true,
    "hidden": true
   },
   "outputs": [],
   "source": [
    "dfs   = []\n",
    "files = glob.glob(\"summary*\")\n",
    "for X, N in zip([1,1,1,2,2,2,5,5,5], [1,5,10]*3):\n",
    "    file = 'summary_of_results_X%d_N%d.xlsx'%(X,N)\n",
    "    te = pd.read_excel(file)\n",
    "    te['N'] = N; te['X'] = \"{0:d}%\".format(X)\n",
    "    dfs.append(te)\n",
    "\n",
    "df = pd.concat(dfs)\n",
    "ds = df.reset_index()\n",
    "\n",
    "ds.loc[ds['index']==\"Triple diff, baseline\"    , \"index\"] = \"Broker Direction, Triple Diff\"\n",
    "ds.loc[ds['index']==\"Best clients, Pre Crisis\" , \"index\"] = \"Best clients, Before Regulation NMS\"\n",
    "ds.loc[ds['index']==\"Best clients, Post Crisis\", \"index\"] = \"Best clients, After Regulation NMS\"\n",
    "\n",
    "ds = ds.set_index(['index', 'X', 'N']).unstack(level=1)[\"(1)\"]\n",
    "\n",
    "not_to_include = [\n",
    "    \"Profitability, Triple Diff\", \"Profitability, Univariate\", \"Profitability, Diff-n-Diff\",\n",
    "    \"Broker direction, Other Side of the Evidence (volume 2)\",\n",
    "    \"\"\n",
    "]\n",
    "ds = ds[~ds.index.get_level_values(0).isin(not_to_include)]\n",
    "\n",
    "S  = ds.index.get_level_values(0).nunique()\n",
    "for i in range(0, S): ds = pd.concat([ds.iloc[:i*4], pd.DataFrame(index=[('', '')]), ds.iloc[i*4:]])\n",
    "\n",
    "st = ds.copy()\n",
    "ds = ds.apply(lambda x : x.str.replace(\"*\", \"\"))\n",
    "ds = ds.astype(float)\n",
    "\n",
    "st1 = st.apply(lambda x : x.str[-1:]=='*' )\n",
    "st2 = st.apply(lambda x : x.str[-2:]=='**' )\n",
    "st3 = st.apply(lambda x : x.str[-3:]=='***' )\n",
    "\n",
    "writer = pd.ExcelWriter('Comparison.xlsx', engine='xlsxwriter')\n",
    "ds.to_excel(writer, sheet_name='Sheet1')\n",
    "workbook  = writer.book\n",
    "worksheet = writer.sheets['Sheet1']\n",
    "\n",
    "for i in range(0, S): worksheet.conditional_format('C%d:E%d'%(i*4+3,i*4+6), {\n",
    "    'type'     : '2_color_scale',\n",
    "    'min_color': '#ffffff',\n",
    "    'max_color': '#99ddff',\n",
    "})\n",
    "    \n",
    "worksheet.set_column('A:A', 50)\n",
    "worksheet.set_zoom(150)\n",
    "\n",
    "bold_cell = workbook.add_format()\n",
    "bold_cell.set_bold(True)\n",
    "\n",
    "non_bold_cell = workbook.add_format()\n",
    "non_bold_cell.set_bold(False)\n",
    "\n",
    "rows = ['C','D', 'E']\n",
    "i = 0\n",
    "j = 2\n",
    "for key, row in ds.iterrows():\n",
    "    for x in row:\n",
    "        i+= 1\n",
    "        y = ds .iloc[j-2][i%3]\n",
    "        b = st1.iloc[j-2][i%3]\n",
    "        if b : cf = bold_cell\n",
    "        else : cf = non_bold_cell\n",
    "        if not np.isnan(y): worksheet.write(rows[i%3]+str(j), y, cf)\n",
    "        \n",
    "    j+=1\n",
    "\n",
    "writer.save()"
   ]
  },
  {
   "cell_type": "markdown",
   "metadata": {},
   "source": [
    "# Clustering"
   ]
  },
  {
   "cell_type": "code",
   "execution_count": 390,
   "metadata": {
    "ExecuteTime": {
     "end_time": "2018-05-17T11:50:21.763012Z",
     "start_time": "2018-05-17T11:50:21.455483Z"
    }
   },
   "outputs": [],
   "source": [
    "files = np.sort(glob.glob(\"cluster_*\"))\n",
    "dfs = [ \n",
    "    pd.DataFrame(index=[np.NaN]).append(pd.read_table(file, header=None)).append(pd.DataFrame(index=[np.NaN]*3)) \n",
    "for file in files ]\n",
    "                 \n",
    "res = pd.concat(dfs)\n",
    "\n",
    "res = res.replace(\"VARIABLES\", 'Dependent Variable')\n",
    "\n",
    "res = res.replace(\"best_X_preda\", 'Best Client ⨉ Liquidation Period')\n",
    "res = res.replace(\"best\", 'Best Client')\n",
    "res = res.replace(\"preda\", 'Liquidation Period')\n",
    "\n",
    "res = res.replace(\"best_X_aware\", 'Best Client ⨉ Aware Broker')\n",
    "res = res.replace(\"aware_seq\"   , 'Aware Broker')\n",
    "res = res.replace(\"aware\"       , 'Aware Broker')\n",
    "\n",
    "res = res[res[0]!='Event FE']\n",
    "res = res.reset_index(drop=True)\n",
    "\n",
    "res.to_excel(\"Clustering.xlsx\", index=None, header=None)\n",
    "\n",
    "end_ind  = res[res[0]=='Cluster'].index.values\n",
    "dep_ind  = res[res[0]=='Dependent Variable'].index.values\n",
    "sta_ind  = [x-2 for x in dep_ind]\n",
    "\n",
    "dep_vars = [\n",
    "    'Probability of Predation',\n",
    "    'Probability of Predation',\n",
    "    'Volume of Predatory Trades',\n",
    "    'Probability of Predation - Probability of Liquidity Provision',\n",
    "    'Predation Volume - Liquidity Provision Volume',\n",
    "    'First Day of Predation',\n",
    "]\n",
    "\n",
    "titles = [\n",
    "    'Table 4',\n",
    "    'Table 2 (dummies)',\n",
    "    'Table 2 (volume)',\n",
    "    'Table 2 - Panel B (dummies)',\n",
    "    'Table 2 - Panel B (volume)',\n",
    "    'Table A5',\n",
    "]\n",
    "\n",
    "writer = pd.ExcelWriter('Clustering.xlsx', engine='xlsxwriter')\n",
    "res.to_excel(writer, sheet_name='Sheet1', index=None, header=None)\n",
    "workbook  = writer.book\n",
    "\n",
    "# Formats\n",
    "white     = workbook.add_format({'fg_color': 'white'})\n",
    "center    = workbook.add_format({'align': 'center', 'fg_color': 'white'})\n",
    "dep_var   = workbook.add_format({\n",
    "    'align' : 'center',\n",
    "    'valign': 'vcenter',\n",
    "})\n",
    "\n",
    "table_title = workbook.add_format({\n",
    "    'align' : 'left',\n",
    "    'valign': 'vcenter',\n",
    "    'font_size':15,\n",
    "})\n",
    "\n",
    "underline = workbook.add_format({'bottom':1,})\n",
    "\n",
    "\n",
    "\n",
    "workbook.formats[0].set_font_name('Times New Roman')\n",
    "\n",
    "worksheet = writer.sheets['Sheet1']\n",
    "    \n",
    "worksheet.set_column('A:A', 25, white)\n",
    "worksheet.set_column('B:D', 20, center)\n",
    "\n",
    "for ind, name in zip(dep_ind, dep_vars):\n",
    "    worksheet.merge_range('B%d:D%d'%(ind+1, ind+1), name, dep_var)\n",
    "\n",
    "for ind in dep_ind:\n",
    "    worksheet.conditional_format('A%d:D%d'%(ind+1, ind+1), {'type':'no_errors', 'format':underline})\n",
    "    worksheet.conditional_format('A%d:D%d'%(ind  , ind  ), {'type':'no_errors', 'format':underline})\n",
    "    \n",
    "for ind in end_ind:\n",
    "    worksheet.conditional_format('A%d:D%d'%(ind+1, ind+1), {'type':'no_errors', 'format':underline})\n",
    "    \n",
    "for ind, title in zip(sta_ind, titles):\n",
    "    worksheet.merge_range('A%d:D%d'%(ind+1, ind+1), title, table_title)\n",
    "\n",
    "worksheet.set_zoom(150)\n",
    "\n",
    "writer.save()"
   ]
  },
  {
   "cell_type": "code",
   "execution_count": null,
   "metadata": {
    "collapsed": true
   },
   "outputs": [],
   "source": []
  }
 ],
 "metadata": {
  "kernelspec": {
   "display_name": "Python 3",
   "language": "python",
   "name": "python3"
  },
  "language_info": {
   "codemirror_mode": {
    "name": "ipython",
    "version": 3
   },
   "file_extension": ".py",
   "mimetype": "text/x-python",
   "name": "python",
   "nbconvert_exporter": "python",
   "pygments_lexer": "ipython3",
   "version": "3.6.3"
  },
  "toc": {
   "colors": {
    "hover_highlight": "#DAA520",
    "navigate_num": "#000000",
    "navigate_text": "#333333",
    "running_highlight": "#FF0000",
    "selected_highlight": "#FFD700",
    "sidebar_border": "#EEEEEE",
    "wrapper_background": "#FFFFFF"
   },
   "moveMenuLeft": true,
   "nav_menu": {
    "height": "12px",
    "width": "252px"
   },
   "navigate_menu": true,
   "number_sections": true,
   "sideBar": true,
   "threshold": 4,
   "toc_cell": false,
   "toc_section_display": "block",
   "toc_window_display": false,
   "widenNotebook": false
  }
 },
 "nbformat": 4,
 "nbformat_minor": 2
}
